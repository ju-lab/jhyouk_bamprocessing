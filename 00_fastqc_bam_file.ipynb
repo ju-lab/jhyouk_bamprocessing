{
 "cells": [
  {
   "cell_type": "code",
   "execution_count": 11,
   "metadata": {},
   "outputs": [
    {
     "name": "stdout",
     "output_type": "stream",
     "text": [
      "The End\n"
     ]
    }
   ],
   "source": [
    "# build file for fastqc and bam alignment\n",
    "import sys\n",
    "\n",
    "#input_fn = sys.argv[1]\n",
    "#input_date = sys.argv[2]\n",
    "#input_file = file(input_fn)\n",
    "input_file = file(\"test.txt\")\n",
    "input_date = \"181128\"\n",
    "output_fastqc = file(\"/home/users/team_projects/Radiation_signature/01_fastq/02_run_fastqc_\" + input_date + \".sh\",'w')\n",
    "output_bam = file(\"/home/users/team_projects/Radiation_signature/02_bam/01_2_run_bamprocessing_\" + input_date + \".sh\",'w')\n",
    "\n",
    "input_line = input_file.readline().strip()\n",
    "input_list = []\n",
    "while input_line:\n",
    "    input_split = input_line.split()\n",
    "    input_fastq = input_split[-1]\n",
    "    input_name = input_fastq.replace(\".fastq.gz\",\"\").replace(\"_R1\",\"\").replace(\"_R2\",\"\")\n",
    "    \n",
    "    if input_name in input_list:\n",
    "        'blank'\n",
    "    else:\n",
    "        input_list.append(input_name)\n",
    "        output_fastqc.write(\"sh 01_script_fastqc.sh \" + input_name + '\\n')       \n",
    "        output_bam.write(\"sh 01_1_script_bamprocessing.sh \" + input_name +'\\n')\n",
    "    \n",
    "    \n",
    "    input_line = input_file.readline().strip()\n",
    "    \n",
    "print 'The End'"
   ]
  },
  {
   "cell_type": "code",
   "execution_count": null,
   "metadata": {},
   "outputs": [],
   "source": []
  },
  {
   "cell_type": "code",
   "execution_count": null,
   "metadata": {},
   "outputs": [],
   "source": []
  }
 ],
 "metadata": {
  "kernelspec": {
   "display_name": "Python 2",
   "language": "python",
   "name": "python2"
  },
  "language_info": {
   "codemirror_mode": {
    "name": "ipython",
    "version": 2
   },
   "file_extension": ".py",
   "mimetype": "text/x-python",
   "name": "python",
   "nbconvert_exporter": "python",
   "pygments_lexer": "ipython2",
   "version": "2.7.14"
  }
 },
 "nbformat": 4,
 "nbformat_minor": 2
}
